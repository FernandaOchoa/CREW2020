{
  "nbformat": 4,
  "nbformat_minor": 0,
  "metadata": {
    "colab": {
      "name": "Crew2020.ipynb",
      "provenance": []
    },
    "kernelspec": {
      "name": "python3",
      "display_name": "Python 3"
    }
  },
  "cells": [
    {
      "cell_type": "markdown",
      "metadata": {
        "id": "9H3HWlkZj3eI"
      },
      "source": [
        "# Taller Crew 2020\n",
        "## Iniciamos con Content Moderator\n"
      ]
    },
    {
      "cell_type": "code",
      "metadata": {
        "id": "dGcnigCRhD3s",
        "outputId": "4eb9c85d-2b65-462c-caaf-42c9bd059d8d",
        "colab": {
          "base_uri": "https://localhost:8080/",
          "height": 401
        }
      },
      "source": [
        "pip install --upgrade azure-cognitiveservices-vision-contentmoderator"
      ],
      "execution_count": 1,
      "outputs": [
        {
          "output_type": "stream",
          "text": [
            "Collecting azure-cognitiveservices-vision-contentmoderator\n",
            "\u001b[?25l  Downloading https://files.pythonhosted.org/packages/2e/3d/0fb9c563aaa8bb0538a02b9185edebb2a9c6a0c0daabcb97a8f47a8b059b/azure_cognitiveservices_vision_contentmoderator-1.0.0-py2.py3-none-any.whl (40kB)\n",
            "\r\u001b[K     |████████▏                       | 10kB 13.1MB/s eta 0:00:01\r\u001b[K     |████████████████▎               | 20kB 2.0MB/s eta 0:00:01\r\u001b[K     |████████████████████████▍       | 30kB 2.3MB/s eta 0:00:01\r\u001b[K     |████████████████████████████████| 40kB 1.8MB/s \n",
            "\u001b[?25hCollecting azure-common~=1.1\n",
            "  Downloading https://files.pythonhosted.org/packages/e5/4d/d000fc3c5af601d00d55750b71da5c231fcb128f42ac95b208ed1091c2c1/azure_common-1.1.25-py2.py3-none-any.whl\n",
            "Collecting msrest>=0.5.0\n",
            "\u001b[?25l  Downloading https://files.pythonhosted.org/packages/fa/f5/9e315fe8cb985b0ce052b34bcb767883dc739f46fadb62f05a7e6d6eedbe/msrest-0.6.19-py2.py3-none-any.whl (84kB)\n",
            "\u001b[K     |████████████████████████████████| 92kB 3.2MB/s \n",
            "\u001b[?25hRequirement already satisfied, skipping upgrade: certifi>=2017.4.17 in /usr/local/lib/python3.6/dist-packages (from msrest>=0.5.0->azure-cognitiveservices-vision-contentmoderator) (2020.6.20)\n",
            "Collecting isodate>=0.6.0\n",
            "\u001b[?25l  Downloading https://files.pythonhosted.org/packages/9b/9f/b36f7774ff5ea8e428fdcfc4bb332c39ee5b9362ddd3d40d9516a55221b2/isodate-0.6.0-py2.py3-none-any.whl (45kB)\n",
            "\u001b[K     |████████████████████████████████| 51kB 4.1MB/s \n",
            "\u001b[?25hRequirement already satisfied, skipping upgrade: requests~=2.16 in /usr/local/lib/python3.6/dist-packages (from msrest>=0.5.0->azure-cognitiveservices-vision-contentmoderator) (2.23.0)\n",
            "Requirement already satisfied, skipping upgrade: requests-oauthlib>=0.5.0 in /usr/local/lib/python3.6/dist-packages (from msrest>=0.5.0->azure-cognitiveservices-vision-contentmoderator) (1.3.0)\n",
            "Requirement already satisfied, skipping upgrade: six in /usr/local/lib/python3.6/dist-packages (from isodate>=0.6.0->msrest>=0.5.0->azure-cognitiveservices-vision-contentmoderator) (1.15.0)\n",
            "Requirement already satisfied, skipping upgrade: urllib3!=1.25.0,!=1.25.1,<1.26,>=1.21.1 in /usr/local/lib/python3.6/dist-packages (from requests~=2.16->msrest>=0.5.0->azure-cognitiveservices-vision-contentmoderator) (1.24.3)\n",
            "Requirement already satisfied, skipping upgrade: chardet<4,>=3.0.2 in /usr/local/lib/python3.6/dist-packages (from requests~=2.16->msrest>=0.5.0->azure-cognitiveservices-vision-contentmoderator) (3.0.4)\n",
            "Requirement already satisfied, skipping upgrade: idna<3,>=2.5 in /usr/local/lib/python3.6/dist-packages (from requests~=2.16->msrest>=0.5.0->azure-cognitiveservices-vision-contentmoderator) (2.10)\n",
            "Requirement already satisfied, skipping upgrade: oauthlib>=3.0.0 in /usr/local/lib/python3.6/dist-packages (from requests-oauthlib>=0.5.0->msrest>=0.5.0->azure-cognitiveservices-vision-contentmoderator) (3.1.0)\n",
            "Installing collected packages: azure-common, isodate, msrest, azure-cognitiveservices-vision-contentmoderator\n",
            "Successfully installed azure-cognitiveservices-vision-contentmoderator-1.0.0 azure-common-1.1.25 isodate-0.6.0 msrest-0.6.19\n"
          ],
          "name": "stdout"
        }
      ]
    },
    {
      "cell_type": "markdown",
      "metadata": {
        "id": "d8EM0yI-lMZD"
      },
      "source": [
        "## Importamos el cliente"
      ]
    },
    {
      "cell_type": "code",
      "metadata": {
        "id": "YP8SInOLkzxP"
      },
      "source": [
        "from azure.cognitiveservices.vision.contentmoderator import ContentModeratorClient\n",
        "from msrest.authentication import CognitiveServicesCredentials\n",
        "from pprint import pprint"
      ],
      "execution_count": 2,
      "outputs": []
    },
    {
      "cell_type": "markdown",
      "metadata": {
        "id": "qM-CGfVXlwnZ"
      },
      "source": [
        "## Autenticamos el cliente con nuestras credenciales de Azure"
      ]
    },
    {
      "cell_type": "code",
      "metadata": {
        "id": "1DekP4GWl1CI"
      },
      "source": [
        "key = ''\n",
        "endpoint= ''"
      ],
      "execution_count": 4,
      "outputs": []
    },
    {
      "cell_type": "code",
      "metadata": {
        "id": "brfbqWtmmC_H"
      },
      "source": [
        "client = ContentModeratorClient(endpoint, CognitiveServicesCredentials(key))"
      ],
      "execution_count": 5,
      "outputs": []
    },
    {
      "cell_type": "markdown",
      "metadata": {
        "id": "TXMTpyVXmZYw"
      },
      "source": [
        "## Abrir el archivo moderar y lo pasamos a Content Moderator"
      ]
    },
    {
      "cell_type": "code",
      "metadata": {
        "id": "ICGrFDiHmXw4",
        "outputId": "9cdb36a8-06e8-4ca1-c0c6-1ac8a56b403a",
        "colab": {
          "base_uri": "https://localhost:8080/",
          "height": 349
        }
      },
      "source": [
        "with open ('./TextCrew.txt', 'rb') as text_f:\n",
        "  text_f = client.text_moderation.screen_text(\n",
        "      text_content_type= 'text/plain',\n",
        "      text_content= text_f,\n",
        "      language= 'eng',\n",
        "      autocorrect= True,\n",
        "      pii= True\n",
        "  )\n",
        "  pprint(text_f.as_dict())"
      ],
      "execution_count": 6,
      "outputs": [
        {
          "output_type": "stream",
          "text": [
            "{'auto_corrected_text': 'This workshop is a crap.\\r\\n'\n",
            "                        'My address is1 Main St. Ney York, NY 10001 and my '\n",
            "                        'phone number is 8654551111',\n",
            " 'language': 'eng',\n",
            " 'normalized_text': ' workshop   crap.\\r\\n'\n",
            "                    ' address is1 Main St. Ney York, NY 10001   phone number  '\n",
            "                    '8654551111',\n",
            " 'original_text': 'This workshop is a crap.\\r\\n'\n",
            "                  'My address is1 Main St. Ney York, NY 10001 and my phone '\n",
            "                  'number is 8654551111',\n",
            " 'pii': {'address': [{'index': 37, 'text': 'is1 Main St. Ney York, NY 10001'}],\n",
            "         'email': [],\n",
            "         'ipa': [],\n",
            "         'phone': [{'country_code': 'US', 'index': 92, 'text': '8654551111'}],\n",
            "         'ssn': []},\n",
            " 'status': {'code': 3000, 'description': 'OK'},\n",
            " 'terms': [{'index': 12, 'list_id': 0, 'original_index': 19, 'term': 'crap'}],\n",
            " 'tracking_id': 'USW2_ibiza_5223b933-5407-42ef-af99-1aace45ee61f_ContentModerator.S0_ffe25685-87ba-4c22-938f-59514cb89a97'}\n"
          ],
          "name": "stdout"
        }
      ]
    },
    {
      "cell_type": "markdown",
      "metadata": {
        "id": "MuEwGKjko8Su"
      },
      "source": [
        "## Usando una lista de términos personalizados\n",
        "\n",
        "* Creamos una lista para los términos"
      ]
    },
    {
      "cell_type": "code",
      "metadata": {
        "id": "uy8pjJczn1BZ"
      },
      "source": [
        "term_list = client.list_management_term_lists.create(\n",
        "    content_type='application/json',\n",
        "    body= {\n",
        "        'name': 'Custom term list',\n",
        "        'description': 'Custom term description'\n",
        "    }\n",
        ")"
      ],
      "execution_count": 7,
      "outputs": []
    },
    {
      "cell_type": "markdown",
      "metadata": {
        "id": "zAfr4FjYpdjO"
      },
      "source": [
        "## Añadimos términos a la lista\n",
        "\n",
        "* Agregamos el término que queremos bloquear:\n",
        "  * id: Id de la lista a la que lo vamos a agregar \n",
        "  * term: El término que queremos añadir\n",
        "  * lang: El idioma en el que lo vamos a agregar\n"
      ]
    },
    {
      "cell_type": "code",
      "metadata": {
        "id": "-eq4BrUjpbuF",
        "outputId": "647e118c-df95-4534-8d66-d17b85e450cc",
        "colab": {
          "base_uri": "https://localhost:8080/",
          "height": 107
        }
      },
      "source": [
        "client.list_management_term.add_term(\n",
        "    list_id= term_list.id,\n",
        "    term= 'leaderboard',\n",
        "    language= 'eng'\n",
        ")"
      ],
      "execution_count": 8,
      "outputs": [
        {
          "output_type": "execute_result",
          "data": {
            "text/plain": [
              "{'AdditionalInfo': None,\n",
              " 'ContentId': '24120',\n",
              " 'Status': {'Code': 3000, 'Description': 'OK', 'Exception': None},\n",
              " 'TrackingId': 'USW2_ibiza_5223b933-5407-42ef-af99-1aace45ee61f_ContentModerator.S0_3cd6ed19-03dd-4823-9e4d-af5e70ef958b'}"
            ]
          },
          "metadata": {
            "tags": []
          },
          "execution_count": 8
        }
      ]
    },
    {
      "cell_type": "code",
      "metadata": {
        "id": "op4Ps1AUqJpP",
        "outputId": "9880c28c-fd00-4cf6-d3cb-27cf74538b98",
        "colab": {
          "base_uri": "https://localhost:8080/",
          "height": 107
        }
      },
      "source": [
        "client.list_management_term.add_term(\n",
        "    list_id= term_list.id,\n",
        "    term= 'watchtime',\n",
        "    language= 'eng'\n",
        ")"
      ],
      "execution_count": 9,
      "outputs": [
        {
          "output_type": "execute_result",
          "data": {
            "text/plain": [
              "{'AdditionalInfo': None,\n",
              " 'ContentId': '24121',\n",
              " 'Status': {'Code': 3000, 'Description': 'OK', 'Exception': None},\n",
              " 'TrackingId': 'USW2_ibiza_5223b933-5407-42ef-af99-1aace45ee61f_ContentModerator.S0_5a05a07f-2fe0-4e07-8c8c-bf762a470382'}"
            ]
          },
          "metadata": {
            "tags": []
          },
          "execution_count": 9
        }
      ]
    },
    {
      "cell_type": "code",
      "metadata": {
        "id": "2Wki0_pwqSnU",
        "outputId": "f1a40341-ce28-4bb9-9070-c0b7d75e7161",
        "colab": {
          "base_uri": "https://localhost:8080/",
          "height": 107
        }
      },
      "source": [
        "client.list_management_term.add_term(\n",
        "    list_id= term_list.id,\n",
        "    term= 'google',\n",
        "    language= 'eng'\n",
        ")"
      ],
      "execution_count": 10,
      "outputs": [
        {
          "output_type": "execute_result",
          "data": {
            "text/plain": [
              "{'AdditionalInfo': None,\n",
              " 'ContentId': '24122',\n",
              " 'Status': {'Code': 3000, 'Description': 'OK', 'Exception': None},\n",
              " 'TrackingId': 'USW2_ibiza_5223b933-5407-42ef-af99-1aace45ee61f_ContentModerator.S0_2b74c01c-aa11-4161-976f-d63ab1b1b6f8'}"
            ]
          },
          "metadata": {
            "tags": []
          },
          "execution_count": 10
        }
      ]
    },
    {
      "cell_type": "code",
      "metadata": {
        "id": "jAmbXh10qaHT",
        "outputId": "4bddd941-e56f-4e81-f065-12d221365dcf",
        "colab": {
          "base_uri": "https://localhost:8080/",
          "height": 107
        }
      },
      "source": [
        "client.list_management_term.add_term(\n",
        "    list_id= term_list.id,\n",
        "    term= 'aws',\n",
        "    language= 'eng'\n",
        ")"
      ],
      "execution_count": 11,
      "outputs": [
        {
          "output_type": "execute_result",
          "data": {
            "text/plain": [
              "{'AdditionalInfo': None,\n",
              " 'ContentId': '24123',\n",
              " 'Status': {'Code': 3000, 'Description': 'OK', 'Exception': None},\n",
              " 'TrackingId': 'USW2_ibiza_5223b933-5407-42ef-af99-1aace45ee61f_ContentModerator.S0_51b82ab5-e591-4ffa-b547-41eccea0e96f'}"
            ]
          },
          "metadata": {
            "tags": []
          },
          "execution_count": 11
        }
      ]
    },
    {
      "cell_type": "markdown",
      "metadata": {
        "id": "YssuDL_vqfWd"
      },
      "source": [
        "# Obteniendo todos los términos de la lista"
      ]
    },
    {
      "cell_type": "code",
      "metadata": {
        "id": "IvwQ7AKcqcc0",
        "outputId": "41b38ea5-8a05-49f0-d514-9593fd1fb386",
        "colab": {
          "base_uri": "https://localhost:8080/",
          "height": 176
        }
      },
      "source": [
        "custom_term = client.list_management_term.get_all_terms(\n",
        "    list_id = term_list.id,\n",
        "    language= 'eng'\n",
        ")\n",
        "pprint(custom_term.as_dict())"
      ],
      "execution_count": 12,
      "outputs": [
        {
          "output_type": "stream",
          "text": [
            "{'data': {'language': 'eng',\n",
            "          'status': {'code': 3000, 'description': 'OK'},\n",
            "          'terms': [{'term': 'leaderboard'},\n",
            "                    {'term': 'watchtime'},\n",
            "                    {'term': 'google'},\n",
            "                    {'term': 'aws'}],\n",
            "          'tracking_id': 'USW2_ibiza_5223b933-5407-42ef-af99-1aace45ee61f_ContentModerator.S0_0138f255-08ce-4fdc-9272-92652cc7caf0'},\n",
            " 'paging': {'limit': 50, 'offset': 0, 'returned': 4, 'total': 4}}\n"
          ],
          "name": "stdout"
        }
      ]
    },
    {
      "cell_type": "markdown",
      "metadata": {
        "id": "32EzvDbyrFIu"
      },
      "source": [
        "## Moderando con nuestra propia lista "
      ]
    },
    {
      "cell_type": "code",
      "metadata": {
        "id": "h4svedLkqz7z",
        "outputId": "7e81f8cf-e99e-458c-c690-68ca1d2b01bb",
        "colab": {
          "base_uri": "https://localhost:8080/",
          "height": 349
        }
      },
      "source": [
        "with open ('./customCrew.txt','rb') as cw:\n",
        "  screen_text = client.text_moderation.screen_text(\n",
        "      text_content_type= 'text/plain',\n",
        "      text_content = cw,\n",
        "      language = 'eng',\n",
        "      autocorrect = True,\n",
        "      pii= True,\n",
        "      list_id = term_list.id\n",
        "  )\n",
        "\n",
        "pprint(screen_text.as_dict())"
      ],
      "execution_count": 13,
      "outputs": [
        {
          "output_type": "stream",
          "text": [
            "{'auto_corrected_text': 'I prefer google cloud platform be Microsoft already '\n",
            "                        'has the leader board\\r\\n'\n",
            "                        'and awes is too hard',\n",
            " 'language': 'eng',\n",
            " 'normalized_text': 'I prefer google cloud platfom bc Microsoft    '\n",
            "                    'leaderboard\\r\\n'\n",
            "                    ' aws   hard',\n",
            " 'original_text': 'I prefer google cloud platfom bc Microsoft already has the '\n",
            "                  'leaderboard\\r\\n'\n",
            "                  'and aws is too hard',\n",
            " 'status': {'code': 3000, 'description': 'OK'},\n",
            " 'terms': [{'index': 9, 'list_id': 161, 'original_index': 9, 'term': 'google'},\n",
            "           {'index': 46,\n",
            "            'list_id': 161,\n",
            "            'original_index': 59,\n",
            "            'term': 'leaderboard'},\n",
            "           {'index': 60, 'list_id': 161, 'original_index': 76, 'term': 'aws'}],\n",
            " 'tracking_id': 'USW2_ibiza_5223b933-5407-42ef-af99-1aace45ee61f_ContentModerator.S0_ff9cb38d-9d8c-4342-a791-cc13cde8c808'}\n"
          ],
          "name": "stdout"
        }
      ]
    },
    {
      "cell_type": "markdown",
      "metadata": {
        "id": "cC7Vxdgwu3V9"
      },
      "source": [
        "# Computer Vision - Analizando una Imagen\n",
        "\n",
        "## Instalamos el SDK de Computer Vision"
      ]
    },
    {
      "cell_type": "code",
      "metadata": {
        "id": "8dooIJmNsVT4",
        "outputId": "bc145b2b-12ff-455e-9e11-370a6fd18554",
        "colab": {
          "base_uri": "https://localhost:8080/",
          "height": 245
        }
      },
      "source": [
        "pip install --upgrade azure-cognitiveservices-vision-computervision"
      ],
      "execution_count": 1,
      "outputs": [
        {
          "output_type": "stream",
          "text": [
            "Requirement already up-to-date: azure-cognitiveservices-vision-computervision in /usr/local/lib/python3.6/dist-packages (0.7.0)\n",
            "Requirement already satisfied, skipping upgrade: msrest>=0.5.0 in /usr/local/lib/python3.6/dist-packages (from azure-cognitiveservices-vision-computervision) (0.6.19)\n",
            "Requirement already satisfied, skipping upgrade: azure-common~=1.1 in /usr/local/lib/python3.6/dist-packages (from azure-cognitiveservices-vision-computervision) (1.1.25)\n",
            "Requirement already satisfied, skipping upgrade: requests-oauthlib>=0.5.0 in /usr/local/lib/python3.6/dist-packages (from msrest>=0.5.0->azure-cognitiveservices-vision-computervision) (1.3.0)\n",
            "Requirement already satisfied, skipping upgrade: requests~=2.16 in /usr/local/lib/python3.6/dist-packages (from msrest>=0.5.0->azure-cognitiveservices-vision-computervision) (2.23.0)\n",
            "Requirement already satisfied, skipping upgrade: isodate>=0.6.0 in /usr/local/lib/python3.6/dist-packages (from msrest>=0.5.0->azure-cognitiveservices-vision-computervision) (0.6.0)\n",
            "Requirement already satisfied, skipping upgrade: certifi>=2017.4.17 in /usr/local/lib/python3.6/dist-packages (from msrest>=0.5.0->azure-cognitiveservices-vision-computervision) (2020.6.20)\n",
            "Requirement already satisfied, skipping upgrade: oauthlib>=3.0.0 in /usr/local/lib/python3.6/dist-packages (from requests-oauthlib>=0.5.0->msrest>=0.5.0->azure-cognitiveservices-vision-computervision) (3.1.0)\n",
            "Requirement already satisfied, skipping upgrade: chardet<4,>=3.0.2 in /usr/local/lib/python3.6/dist-packages (from requests~=2.16->msrest>=0.5.0->azure-cognitiveservices-vision-computervision) (3.0.4)\n",
            "Requirement already satisfied, skipping upgrade: urllib3!=1.25.0,!=1.25.1,<1.26,>=1.21.1 in /usr/local/lib/python3.6/dist-packages (from requests~=2.16->msrest>=0.5.0->azure-cognitiveservices-vision-computervision) (1.24.3)\n",
            "Requirement already satisfied, skipping upgrade: idna<3,>=2.5 in /usr/local/lib/python3.6/dist-packages (from requests~=2.16->msrest>=0.5.0->azure-cognitiveservices-vision-computervision) (2.10)\n",
            "Requirement already satisfied, skipping upgrade: six in /usr/local/lib/python3.6/dist-packages (from isodate>=0.6.0->msrest>=0.5.0->azure-cognitiveservices-vision-computervision) (1.15.0)\n"
          ],
          "name": "stdout"
        }
      ]
    },
    {
      "cell_type": "markdown",
      "metadata": {
        "id": "0QvyPF_vvJJC"
      },
      "source": [
        "## Importamos las bibliotecas del Cliente"
      ]
    },
    {
      "cell_type": "code",
      "metadata": {
        "id": "UvqV6EJ6vCtS"
      },
      "source": [
        "from azure.cognitiveservices.vision.computervision import ComputerVisionClient\n",
        "from msrest.authentication import CognitiveServicesCredentials"
      ],
      "execution_count": 1,
      "outputs": []
    },
    {
      "cell_type": "markdown",
      "metadata": {
        "id": "WD27bA5avZYm"
      },
      "source": [
        "## Creamos las credenciales"
      ]
    },
    {
      "cell_type": "code",
      "metadata": {
        "id": "1L3qmkLuvVgJ"
      },
      "source": [
        "key = ''\n",
        "endpoint = ''"
      ],
      "execution_count": 2,
      "outputs": []
    },
    {
      "cell_type": "markdown",
      "metadata": {
        "id": "ewrbAVlWvkB0"
      },
      "source": [
        "## Autenticamos el Cliente\n"
      ]
    },
    {
      "cell_type": "code",
      "metadata": {
        "id": "1BLaR0f1vi14"
      },
      "source": [
        "client = ComputerVisionClient(endpoint, CognitiveServicesCredentials(key))"
      ],
      "execution_count": 3,
      "outputs": []
    },
    {
      "cell_type": "markdown",
      "metadata": {
        "id": "djzj-Mb_wxW0"
      },
      "source": [
        "## Nos traemos las imagenes"
      ]
    },
    {
      "cell_type": "code",
      "metadata": {
        "id": "ObMCaYHTvuQQ"
      },
      "source": [
        "big_ben = 'https://raw.githubusercontent.com/FernandaOchoa/InnovaccionNube/main/ComputerVision/images/big_ben.jpg?token=ACFTV5K53EJIKD23TA25LSC7RC2NA'"
      ],
      "execution_count": 15,
      "outputs": []
    },
    {
      "cell_type": "code",
      "metadata": {
        "id": "2MZfa549xzPb"
      },
      "source": [
        "burj= 'https://raw.githubusercontent.com/FernandaOchoa/CREW2020/main/Burj.jpg'"
      ],
      "execution_count": 4,
      "outputs": []
    },
    {
      "cell_type": "code",
      "metadata": {
        "id": "VhXtqPfpw4Ci"
      },
      "source": [
        "liberty ='https://raw.githubusercontent.com/FernandaOchoa/CREW2020/main/liberty.jpg'"
      ],
      "execution_count": 5,
      "outputs": []
    },
    {
      "cell_type": "markdown",
      "metadata": {
        "id": "t3qkT9ipxOKj"
      },
      "source": [
        "## Buscamos las etiquetas que podemos obtener de la imagen\n"
      ]
    },
    {
      "cell_type": "code",
      "metadata": {
        "id": "hsT-1uEbxHMH"
      },
      "source": [
        "describeLiberty = client.describe_image(liberty)"
      ],
      "execution_count": 6,
      "outputs": []
    },
    {
      "cell_type": "code",
      "metadata": {
        "id": "OpQhZnR8yvO4"
      },
      "source": [
        "describeBurj = client.describe_image(burj)"
      ],
      "execution_count": 7,
      "outputs": []
    },
    {
      "cell_type": "code",
      "metadata": {
        "id": "egMoCYn_xYyw",
        "outputId": "803e43cb-31c6-479d-88ad-b31f830aaae3",
        "colab": {
          "base_uri": "https://localhost:8080/",
          "height": 815
        }
      },
      "source": [
        "dir (describeBurj)"
      ],
      "execution_count": 8,
      "outputs": [
        {
          "output_type": "execute_result",
          "data": {
            "text/plain": [
              "['__class__',\n",
              " '__delattr__',\n",
              " '__dict__',\n",
              " '__dir__',\n",
              " '__doc__',\n",
              " '__eq__',\n",
              " '__format__',\n",
              " '__ge__',\n",
              " '__getattribute__',\n",
              " '__gt__',\n",
              " '__hash__',\n",
              " '__init__',\n",
              " '__init_subclass__',\n",
              " '__le__',\n",
              " '__lt__',\n",
              " '__module__',\n",
              " '__ne__',\n",
              " '__new__',\n",
              " '__reduce__',\n",
              " '__reduce_ex__',\n",
              " '__repr__',\n",
              " '__setattr__',\n",
              " '__sizeof__',\n",
              " '__str__',\n",
              " '__subclasshook__',\n",
              " '__weakref__',\n",
              " '_attribute_map',\n",
              " '_classify',\n",
              " '_create_xml_node',\n",
              " '_flatten_subtype',\n",
              " '_get_rest_key_parts',\n",
              " '_infer_class_models',\n",
              " '_subtype_map',\n",
              " '_validation',\n",
              " 'additional_properties',\n",
              " 'as_dict',\n",
              " 'captions',\n",
              " 'deserialize',\n",
              " 'enable_additional_properties_sending',\n",
              " 'from_dict',\n",
              " 'is_xml_model',\n",
              " 'metadata',\n",
              " 'request_id',\n",
              " 'serialize',\n",
              " 'tags',\n",
              " 'validate']"
            ]
          },
          "metadata": {
            "tags": []
          },
          "execution_count": 8
        }
      ]
    },
    {
      "cell_type": "code",
      "metadata": {
        "id": "e_8JGFKmylNv",
        "outputId": "ab38bbac-5365-4b91-e609-0bf8908b7689",
        "colab": {
          "base_uri": "https://localhost:8080/",
          "height": 35
        }
      },
      "source": [
        "describeBurj.tags"
      ],
      "execution_count": 26,
      "outputs": [
        {
          "output_type": "execute_result",
          "data": {
            "text/plain": [
              "['sky', 'outdoor']"
            ]
          },
          "metadata": {
            "tags": []
          },
          "execution_count": 26
        }
      ]
    },
    {
      "cell_type": "code",
      "metadata": {
        "id": "y5Bc5tKHy6NE",
        "outputId": "ef1ac27e-e1f7-49d9-da61-bb8e657ce34b",
        "colab": {
          "base_uri": "https://localhost:8080/",
          "height": 35
        }
      },
      "source": [
        "describeLiberty.tags"
      ],
      "execution_count": 27,
      "outputs": [
        {
          "output_type": "execute_result",
          "data": {
            "text/plain": [
              "['outdoor', 'sky', 'building', 'green', 'tall', 'plant', 'roof', 'tower']"
            ]
          },
          "metadata": {
            "tags": []
          },
          "execution_count": 27
        }
      ]
    },
    {
      "cell_type": "code",
      "metadata": {
        "id": "h5xuSfjFzAfu",
        "outputId": "bdd600df-0a03-428e-c8ea-6d16ebf59a95",
        "colab": {
          "base_uri": "https://localhost:8080/",
          "height": 35
        }
      },
      "source": [
        "for captions in describeLiberty.captions:\n",
        "  print(captions.text, captions.confidence)"
      ],
      "execution_count": 28,
      "outputs": [
        {
          "output_type": "stream",
          "text": [
            "a statue of a person holding a torch with Statue of Liberty in the background 0.5595191121101379\n"
          ],
          "name": "stdout"
        }
      ]
    },
    {
      "cell_type": "code",
      "metadata": {
        "id": "13_lC9xTzZjd",
        "outputId": "df6cbb36-168a-439e-97ea-730dc4cc04a3",
        "colab": {
          "base_uri": "https://localhost:8080/",
          "height": 35
        }
      },
      "source": [
        "for caption in describeBurj.captions:\n",
        "  print(caption.text, caption.confidence)"
      ],
      "execution_count": 29,
      "outputs": [
        {
          "output_type": "stream",
          "text": [
            "a tall building with a blue sky with Burj Khalifa in the background 0.4747532606124878\n"
          ],
          "name": "stdout"
        }
      ]
    },
    {
      "cell_type": "code",
      "metadata": {
        "id": "F8uCLD6K0lqY"
      },
      "source": [
        ""
      ],
      "execution_count": 9,
      "outputs": []
    },
    {
      "cell_type": "code",
      "metadata": {
        "id": "SY2VH9kF0PS3"
      },
      "source": [
        "detect = client.detect_objects(burj)\n",
        "for obj in detect.objects:\n",
        "    print(obj.object_property, obj.rectangle)"
      ],
      "execution_count": 15,
      "outputs": []
    },
    {
      "cell_type": "code",
      "metadata": {
        "id": "mfQCRFODz_CH"
      },
      "source": [
        "landmarks = client.analyze_image_by_domain('landmarks', burj)"
      ],
      "execution_count": 11,
      "outputs": []
    },
    {
      "cell_type": "code",
      "metadata": {
        "id": "HgazkhuO1D_9",
        "outputId": "0f6e3d9c-86ab-40d2-f58f-fa761636e965",
        "colab": {
          "base_uri": "https://localhost:8080/",
          "height": 35
        }
      },
      "source": [
        "landmarks.result"
      ],
      "execution_count": 12,
      "outputs": [
        {
          "output_type": "execute_result",
          "data": {
            "text/plain": [
              "{'landmarks': [{'confidence': 0.9666927456855774, 'name': 'Burj Khalifa'}]}"
            ]
          },
          "metadata": {
            "tags": []
          },
          "execution_count": 12
        }
      ]
    },
    {
      "cell_type": "code",
      "metadata": {
        "id": "BelAFcYt1XS3",
        "outputId": "51684165-22d2-4dbb-ff9c-d05c336bdf9e",
        "colab": {
          "base_uri": "https://localhost:8080/",
          "height": 35
        }
      },
      "source": [
        "detectLiberty = client.detect_objects(liberty)\n",
        "for obj in detectLiberty.objects:\n",
        "    print(obj.object_property, obj.rectangle)"
      ],
      "execution_count": 14,
      "outputs": [
        {
          "output_type": "stream",
          "text": [
            "Sculpture {'additional_properties': {}, 'x': 917, 'y': 335, 'w': 746, 'h': 1786}\n"
          ],
          "name": "stdout"
        }
      ]
    },
    {
      "cell_type": "code",
      "metadata": {
        "id": "bAoO1_8N1qN6",
        "outputId": "d35864ea-3383-40cb-e022-48c443c06905",
        "colab": {
          "base_uri": "https://localhost:8080/",
          "height": 52
        }
      },
      "source": [
        "landmarkLiberty  = client.analyze_image_by_domain('landmarks', liberty)\n",
        "landmarkLiberty.result"
      ],
      "execution_count": 16,
      "outputs": [
        {
          "output_type": "execute_result",
          "data": {
            "text/plain": [
              "{'landmarks': [{'confidence': 0.9918741583824158,\n",
              "   'name': 'Statue of Liberty'}]}"
            ]
          },
          "metadata": {
            "tags": []
          },
          "execution_count": 16
        }
      ]
    },
    {
      "cell_type": "code",
      "metadata": {
        "id": "9n08r7nT2MFW",
        "outputId": "32d7f478-7358-462f-b002-a683d25fdc66",
        "colab": {
          "base_uri": "https://localhost:8080/",
          "height": 52
        }
      },
      "source": [
        "analyzeBurj = client.analyze_image(burj)\n",
        "for category in analyzeBurj.categories:\n",
        "  print(category)"
      ],
      "execution_count": 18,
      "outputs": [
        {
          "output_type": "stream",
          "text": [
            "{'additional_properties': {}, 'name': 'building_', 'score': 0.6328125, 'detail': None}\n",
            "{'additional_properties': {}, 'name': 'building_street', 'score': 0.2109375, 'detail': None}\n"
          ],
          "name": "stdout"
        }
      ]
    },
    {
      "cell_type": "code",
      "metadata": {
        "id": "aXWJ0Tou2mir",
        "outputId": "4b9d981c-dc58-46a4-88c9-7f8469bb13c6",
        "colab": {
          "base_uri": "https://localhost:8080/",
          "height": 35
        }
      },
      "source": [
        "analyzeLiberty = client.analyze_image(liberty)\n",
        "for category in analyzeLiberty.categories:\n",
        "  print(category)"
      ],
      "execution_count": 20,
      "outputs": [
        {
          "output_type": "stream",
          "text": [
            "{'additional_properties': {}, 'name': 'building_', 'score': 0.6640625, 'detail': None}\n"
          ],
          "name": "stdout"
        }
      ]
    },
    {
      "cell_type": "code",
      "metadata": {
        "id": "fEbC8EYb21Mr"
      },
      "source": [
        ""
      ],
      "execution_count": null,
      "outputs": []
    }
  ]
}
